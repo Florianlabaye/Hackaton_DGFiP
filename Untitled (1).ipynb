{
 "cells": [
  {
   "cell_type": "code",
   "execution_count": 42,
   "id": "1653285a-c4c7-4a27-b6af-6b937de7eb3e",
   "metadata": {},
   "outputs": [],
   "source": [
    "import pandas as pd\n",
    "import os\n",
    "from neo4j import GraphDatabase\n",
    "import os \n"
   ]
  },
  {
   "cell_type": "code",
   "execution_count": 49,
   "id": "0efe119d-f265-4cd0-9a65-35577c948214",
   "metadata": {},
   "outputs": [],
   "source": [
    "data_path = '/home/dtnumpoledonnees/ethereum/data/transactions/'\n",
    "def connect():\n",
    "    return GraphDatabase.driver(\"bolt://34.79.248.80:7687\", auth=(\"neo4j\", \"azerty\"))"
   ]
  },
  {
   "cell_type": "code",
   "execution_count": 44,
   "id": "580d129f-b0e8-46f6-a645-c14d04815430",
   "metadata": {},
   "outputs": [],
   "source": [
    "files = os.listdir(data_path)"
   ]
  },
  {
   "cell_type": "code",
   "execution_count": 62,
   "id": "a8b5475d-6c89-4c46-9cb7-07d80a8a5b62",
   "metadata": {},
   "outputs": [],
   "source": [
    "def create_constraint(tx):\n",
    "    tx.run(\"CREATE CONSTRAINT ON (a:Adresse) ASSERT a.pk IS UNIQUE\")\n",
    "    \n",
    "def load_csv(tx, csv_file):\n",
    "    #tx.run(\"LOAD CSV WITH HEADERS FROM 'file:///ethereum/data/transactions/{}' AS line FIELDTERMINATOR ';' CREATE (a:Adresse {{pk: line.from_address}})\".format(csv_file))\n",
    "    tx.run(\"LOAD CSV WITH HEADERS FROM 'file:///ethereum/data/transactions/{}' AS line FIELDTERMINATOR ';' \\\n",
    "    MERGE (a:Adresse {{pk: line.from_address}})\".format(csv_file))\n",
    "    tx.run(\"LOAD CSV WITH HEADERS FROM 'file:///ethereum/data/transactions/{}' AS line FIELDTERMINATOR ';' WITH line WHERE line.to_address IS NOT NULL MERGE (a:Adresse {{pk: line.to_address}})\".format(csv_file))\n",
    "    tx.run(\"LOAD CSV WITH HEADERS FROM 'file:///ethereum/data/transactions/{}' AS line FIELDTERMINATOR ';' MATCH (a:Adresse {{pk: line.from_address}}) MATCH (b:Adresse {{pk: line.to_address}}) CREATE (a)-[tx:TRANSFERRED {{value:line.value, nonce:line.nonce, timestamp:line.block_timestamp, gasprice: line.gas_price,gas : line.gas, receipt_cumulative_gas_used : line.receipt_cumulative_gas_used, receipt_gas_used :line.receipt_gas_used , transaction_type: line.transaction_type, receipt_effective_gas_price : line.receipt_effective_gas_price}}]->(b)\".format(csv_file))\n",
    "    \n",
    "def push_csv(f):\n",
    "    with driver.session() as session:\n",
    "        session.execute_write(load_csv, f)\n",
    "        \n",
    "def push_constraint():\n",
    "    with driver.session() as session:\n",
    "        session.execute_write(create_constraint)\n",
    "    \n",
    "    \n",
    "driver = connect()\n",
    "#for f in files:\n",
    "#push_constraint()\n",
    "push_csv('000000000006.csv')\n",
    "\n",
    "\n",
    "driver.close()\n",
    "\n",
    "\n",
    "\n",
    "LOAD CSV WITH HEADERS FROM 'file:///osint/exchange_addresses.csv' AS line FIELDTERMINATOR ','\n",
    "MATCH (n:Entity)\n",
    "WHERE n.pk = line.address\n",
    "SET n.exchange = line.exchange\n",
    "\n",
    "\n",
    "\n",
    "\n",
    "0x262d262ae4c257cbaec4819a47123cd172b900d6\n",
    "\n",
    "    "
   ]
  },
  {
   "cell_type": "code",
   "execution_count": null,
   "id": "3baa3d33-c292-40aa-af9c-0532a1e58a86",
   "metadata": {},
   "outputs": [],
   "source": [
    "def connect():\n",
    "    return GraphDatabase.driver(\"bolt://34.79.248.80:7687\", auth=(\"neo4j\", \"azerty\"))\n",
    "\n",
    "def push(method):\n",
    "    with driver.session() as session:\n",
    "        session.execute_write(method, csv_file)\n",
    "\n",
    "def load_csv(tx, csv_file):\n",
    "    tx.run(\"LOAD CSV WITH HEADERS FROM 'file:///ethereum/data/transactions/v0.csv' AS row FIELDTERMINATOR ';'CREATE (u1:User {pk: row.f_address})-[:SENDS {value:row.value, nonce:row.nonce, timestamp:row.block_timestamp, gasprice: row.gas_price,gas : row.gas, receipt_cumulative_gas_used : row.receipt_cumulative_gas_used, receipt_gas_used :row.receipt_gas_used , transaction_type: row.transaction_type, receipt_effective_gas_price : row.receipt_effective_gas_price}]->(u2:User {pk: row.to_address}\")\")\n",
    "    \n",
    "\n",
    "def push_csv(f):\n",
    "    driver = connect()\n",
    "    with driver.session() as session:\n",
    "        session.execute_write(load_csv, f)\n",
    "    driver.close()\n",
    "  \n",
    "def push_csv(function):\n",
    "    driver = connect()\n",
    "    with driver.session() as session:\n",
    "        session.execute_write(load_csv, f)\n",
    "    driver.close()\n",
    "           \n",
    "\n",
    "\n",
    "def path_between_two_nodes(tx,a,b) :\n",
    "    tx.run(\"MATCH path = (start:Entity {pk:'0x854f1269b659a727a2268ab86ff77cfb30bfb358'})-[:TRANSFERRED*1..2]->(end:Entity {pk:'0xd23f7594185a26d4860fdedd2b759fb0eba6058d'}) RETURN path\")    \n",
    "    \n",
    "    \n",
    "match (node:Entity) where node.pk= '0x854f1269b659a727a2268ab86ff77cfb30bfb358'\n",
    "match p=(node)-[:TRANSFERRED*1..2]-(n2)\n",
    "where n2.pk = '0xd23f7594185a26d4860fdedd2b759fb0eba6058d'\n",
    "RETURN p\n",
    "\n",
    "if __name__ == '__main__' :\n",
    "    data_path = '/home/dtnumpoledonnees/ethereum/data/transactions'\n",
    "    files = os.listdir(data_path)[:1]\n",
    "    for f in files:\n",
    "        push_csv(f)"
   ]
  },
  {
   "cell_type": "code",
   "execution_count": 24,
   "id": "5d36a057-e052-4760-a446-9d9e4145ec60",
   "metadata": {},
   "outputs": [
    {
     "name": "stdout",
     "output_type": "stream",
     "text": [
      "LOAD CSV WITH HEADERS FROM 'file:///ethereum/data/transactions/0.csv' AS row FIELDTERMINATOR ','CREATE (u1:User {pk: row.from_address})-[:SENDS {value:row.value, nonce:row.nonce, timestamp:row.block_timestamp, gasprice: row.gas_price,gas : row.gas, receipt_cumulative_gas_used : row.receipt_cumulative_gas_used, receipt_gas_used :row.receipt_gas_used , transaction_type: row.transaction_type, receipt_effective_gas_price : row.receipt_effective_gas_price}]->(u2:User {pk: row.to_address})\n"
     ]
    }
   ],
   "source": [
    "print(\"LOAD CSV WITH HEADERS FROM 'file:///ethereum/data/transactions/{}' AS row FIELDTERMINATOR ','CREATE (u1:User {{pk: row.from_address}})-[:SENDS {{value:row.value, nonce:row.nonce, timestamp:row.block_timestamp, gasprice: row.gas_price,gas : row.gas, receipt_cumulative_gas_used : row.receipt_cumulative_gas_used, receipt_gas_used :row.receipt_gas_used , transaction_type: row.transaction_type, receipt_effective_gas_price : row.receipt_effective_gas_price}}]->(u2:User {{pk: row.to_address}})\".format('0.csv'))"
   ]
  },
  {
   "cell_type": "code",
   "execution_count": 54,
   "id": "ae0021cb-7aa9-45bb-938c-c725295b65ed",
   "metadata": {},
   "outputs": [],
   "source": [
    "df=pd.read_csv('/home/dtnumpoledonnees/ethereum/data/transactions/000000000001.csv',sep=';')\n",
    "\n"
   ]
  },
  {
   "cell_type": "code",
   "execution_count": 55,
   "id": "e56cdcaf-2532-409f-8511-78e8b6a2cb0b",
   "metadata": {},
   "outputs": [
    {
     "data": {
      "text/plain": [
       "0x46340b20830761efd32832a74d7169b29feb9758    1911\n",
       "0x21a31ee1afc51d94c2efccaa2092ad1028285549    1262\n",
       "0x28c6c06298d514db089934071355e5743bf21d60    1229\n",
       "0xdfd5293d8e347dfe59e90efd55b2956a1343963d    1169\n",
       "0xf16e9b0d03470827a95cdfd0cb8a8a3b46969b91    1023\n",
       "                                              ... \n",
       "0xeea74c0f109a0589f99370d7bec62f753ac43344       1\n",
       "0xd3becf581140fff5764872183df202504dcb2c58       1\n",
       "0x035495b687850f79cb1652f416ea7ec19907557c       1\n",
       "0xc5f5644c4690c010666b702fa1788f169e55c645       1\n",
       "0x5c158c9b035a7265603a83ffe9faced67fb58bd7       1\n",
       "Name: from_address, Length: 74248, dtype: int64"
      ]
     },
     "execution_count": 55,
     "metadata": {},
     "output_type": "execute_result"
    }
   ],
   "source": [
    "df['from_address'].value_counts()"
   ]
  },
  {
   "cell_type": "code",
   "execution_count": 57,
   "id": "b52da187-d5ea-4378-a955-ea6d5e2f393b",
   "metadata": {},
   "outputs": [
    {
     "data": {
      "text/html": [
       "<div>\n",
       "<style scoped>\n",
       "    .dataframe tbody tr th:only-of-type {\n",
       "        vertical-align: middle;\n",
       "    }\n",
       "\n",
       "    .dataframe tbody tr th {\n",
       "        vertical-align: top;\n",
       "    }\n",
       "\n",
       "    .dataframe thead th {\n",
       "        text-align: right;\n",
       "    }\n",
       "</style>\n",
       "<table border=\"1\" class=\"dataframe\">\n",
       "  <thead>\n",
       "    <tr style=\"text-align: right;\">\n",
       "      <th></th>\n",
       "      <th>from_address</th>\n",
       "      <th>to_address</th>\n",
       "    </tr>\n",
       "  </thead>\n",
       "  <tbody>\n",
       "    <tr>\n",
       "      <th>2117</th>\n",
       "      <td>0xb6b9e7cca3391ea821d1f5ef9b6677bfc91b198f</td>\n",
       "      <td>NaN</td>\n",
       "    </tr>\n",
       "    <tr>\n",
       "      <th>2722</th>\n",
       "      <td>0xef476b4d1de37f53b178dc8311214bc50ae1ac2f</td>\n",
       "      <td>NaN</td>\n",
       "    </tr>\n",
       "    <tr>\n",
       "      <th>2888</th>\n",
       "      <td>0x8606de07aa34505ff5c2348c60f8cde608340f7c</td>\n",
       "      <td>NaN</td>\n",
       "    </tr>\n",
       "    <tr>\n",
       "      <th>4985</th>\n",
       "      <td>0x386688bc322bc45880f859062518a6057f955733</td>\n",
       "      <td>NaN</td>\n",
       "    </tr>\n",
       "    <tr>\n",
       "      <th>6603</th>\n",
       "      <td>0xdc3e6d7970f581845f456016e5229a180f5fe43d</td>\n",
       "      <td>NaN</td>\n",
       "    </tr>\n",
       "    <tr>\n",
       "      <th>...</th>\n",
       "      <td>...</td>\n",
       "      <td>...</td>\n",
       "    </tr>\n",
       "    <tr>\n",
       "      <th>183109</th>\n",
       "      <td>0x49619447f594f5b4d2682bbe3bab519b8e349c1f</td>\n",
       "      <td>NaN</td>\n",
       "    </tr>\n",
       "    <tr>\n",
       "      <th>183383</th>\n",
       "      <td>0x1d112247db8c8259e254570e5f6be231b6378519</td>\n",
       "      <td>NaN</td>\n",
       "    </tr>\n",
       "    <tr>\n",
       "      <th>188406</th>\n",
       "      <td>0x2962ab755743372407f14b71826ef3370dc68aa0</td>\n",
       "      <td>NaN</td>\n",
       "    </tr>\n",
       "    <tr>\n",
       "      <th>190650</th>\n",
       "      <td>0x6b2d12ddb2548f6d219c27c2b89ebe4c892af823</td>\n",
       "      <td>NaN</td>\n",
       "    </tr>\n",
       "    <tr>\n",
       "      <th>192204</th>\n",
       "      <td>0x9862d074e33003726fa05c74f0142995f33a3250</td>\n",
       "      <td>NaN</td>\n",
       "    </tr>\n",
       "  </tbody>\n",
       "</table>\n",
       "<p>187 rows × 2 columns</p>\n",
       "</div>"
      ],
      "text/plain": [
       "                                      from_address to_address\n",
       "2117    0xb6b9e7cca3391ea821d1f5ef9b6677bfc91b198f        NaN\n",
       "2722    0xef476b4d1de37f53b178dc8311214bc50ae1ac2f        NaN\n",
       "2888    0x8606de07aa34505ff5c2348c60f8cde608340f7c        NaN\n",
       "4985    0x386688bc322bc45880f859062518a6057f955733        NaN\n",
       "6603    0xdc3e6d7970f581845f456016e5229a180f5fe43d        NaN\n",
       "...                                            ...        ...\n",
       "183109  0x49619447f594f5b4d2682bbe3bab519b8e349c1f        NaN\n",
       "183383  0x1d112247db8c8259e254570e5f6be231b6378519        NaN\n",
       "188406  0x2962ab755743372407f14b71826ef3370dc68aa0        NaN\n",
       "190650  0x6b2d12ddb2548f6d219c27c2b89ebe4c892af823        NaN\n",
       "192204  0x9862d074e33003726fa05c74f0142995f33a3250        NaN\n",
       "\n",
       "[187 rows x 2 columns]"
      ]
     },
     "execution_count": 57,
     "metadata": {},
     "output_type": "execute_result"
    }
   ],
   "source": [
    "df[df['to_address'].isna()][['from_address', 'to_address']]"
   ]
  },
  {
   "cell_type": "code",
   "execution_count": null,
   "id": "781f57e5-39ef-493e-9bea-bfd9c915e23c",
   "metadata": {},
   "outputs": [],
   "source": []
  }
 ],
 "metadata": {
  "kernelspec": {
   "display_name": "Python 3",
   "language": "python",
   "name": "python3"
  },
  "language_info": {
   "codemirror_mode": {
    "name": "ipython",
    "version": 3
   },
   "file_extension": ".py",
   "mimetype": "text/x-python",
   "name": "python",
   "nbconvert_exporter": "python",
   "pygments_lexer": "ipython3",
   "version": "3.7.12"
  }
 },
 "nbformat": 4,
 "nbformat_minor": 5
}
